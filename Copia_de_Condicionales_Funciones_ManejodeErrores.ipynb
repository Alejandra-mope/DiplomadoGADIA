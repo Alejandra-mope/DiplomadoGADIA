{
  "nbformat": 4,
  "nbformat_minor": 0,
  "metadata": {
    "colab": {
      "provenance": []
    },
    "kernelspec": {
      "name": "python3",
      "display_name": "Python 3"
    },
    "language_info": {
      "name": "python"
    }
  },
  "cells": [
    {
      "cell_type": "markdown",
      "source": [
        "**CONDICIONALES, FUNCIONES  MANEJO DE ERRORES**\n",
        "\n",
        "DIPLOMADO EN GOBIERNO Y ANALÍTICA DE DATOS.\n",
        "\n",
        "FUNDACIÓN UNIVERSITARIA CAFAM.\n",
        "\n",
        "DOCENTE: NICOLÁS MOJICA GOMEZ.\n",
        "\n",
        "ESTUDIANTE: ANGIE ALEJANDRA MORENO PÉREZ.\n"
      ],
      "metadata": {
        "id": "U6Zm79F6btr2"
      }
    },
    {
      "cell_type": "code",
      "source": [
        "##Los condicionales en Python  permiten tomar decisiones en el código basadas en ciertas condiciones, son fundamentales para controlar el flujo de ejecución.\n",
        "edad=18\n",
        "#Crear un condicional que indique si la persona es mayor o menor de edad.\n",
        "if edad<18:\n",
        "  print(\"Eres menor de edad\")\n",
        "else:\n",
        "  print(\"Eres mayor de edad\")"
      ],
      "metadata": {
        "colab": {
          "base_uri": "https://localhost:8080/"
        },
        "id": "DILXPG8nb4pw",
        "outputId": "21061b61-539c-4790-b44f-5bce6a9245b8"
      },
      "execution_count": null,
      "outputs": [
        {
          "output_type": "stream",
          "name": "stdout",
          "text": [
            "Eres mayor de edad\n"
          ]
        }
      ]
    },
    {
      "cell_type": "code",
      "source": [
        "##Generar un programa que claisifique la edad introducida por el usuario entre mayor y menor de edad.\n",
        "edad= int(input(\"Por favor ingresa tu edad\"))\n",
        "if edad<18:\n",
        "  print(\"Eres menor de edad\")\n",
        "else:\n",
        "  print(\"Eres mayor de edad\")"
      ],
      "metadata": {
        "colab": {
          "base_uri": "https://localhost:8080/"
        },
        "id": "88XG8Y_mcsxN",
        "outputId": "27eae21a-0ef3-4e33-feac-caf5a280c45a"
      },
      "execution_count": null,
      "outputs": [
        {
          "output_type": "stream",
          "name": "stdout",
          "text": [
            "Por favor ingresa tu edad16\n",
            "Eres menor de edad\n"
          ]
        }
      ]
    },
    {
      "cell_type": "code",
      "source": [
        "## Construya un programa que al ingresar la nota del usuario lo clasifique en:\n",
        "#No aprobado <60,>=90, Clasificacion A, >=80 Clasificacion B, otros Clasificación C.\n",
        "nota=int(input(\"Ingrese la nota\"))\n",
        "if nota>=60:\n",
        "  if nota >=90:\n",
        "    print(\"Clasificacion A\")\n",
        "  elif nota >=80:\n",
        "    print(\"Clasificacion B\")\n",
        "  else:\n",
        "    print(\"Clasificación C\")\n",
        "else:\n",
        "  print(\"No aprobado\")\n"
      ],
      "metadata": {
        "colab": {
          "base_uri": "https://localhost:8080/"
        },
        "id": "b2QTLBFadhC0",
        "outputId": "53227f77-2af8-4bdb-f73b-6224a06718ed"
      },
      "execution_count": null,
      "outputs": [
        {
          "output_type": "stream",
          "name": "stdout",
          "text": [
            "Ingrese la nota70\n",
            "Clasificación C\n"
          ]
        }
      ]
    },
    {
      "cell_type": "code",
      "source": [
        "\"\"\"\n",
        "Comparaciones\n",
        "Las condiciones en las sentencias condicionales suelen involucrar operadores de comparación:\n",
        "\n",
        "- == (igual a)\n",
        "- != (diferente de)\n",
        "- > (mayor que)\n",
        "- < (menor que)\n",
        "- >= (mayor o igual que)\n",
        "- <= (menor o igual que)\n",
        "\"\"\"\n"
      ],
      "metadata": {
        "id": "EXLVceGXgDDA"
      },
      "execution_count": null,
      "outputs": []
    },
    {
      "cell_type": "code",
      "source": [
        "##Escribe un programa que verifique si un número ingresado por el usuario es par o impar.\n",
        "numero = int(input(\"->Ingrese un número: \"))\n",
        "if numero%2 ==0:\n",
        "  print(\"//El número ingresado es par\")\n",
        "else:\n",
        "   print(\"//El número ingresado es impar.\")"
      ],
      "metadata": {
        "colab": {
          "base_uri": "https://localhost:8080/"
        },
        "id": "OIpadqX9i3xk",
        "outputId": "7be3b92f-38c4-4624-93c7-2fb225431f3b"
      },
      "execution_count": null,
      "outputs": [
        {
          "output_type": "stream",
          "name": "stdout",
          "text": [
            "->Ingrese un número: 7\n",
            "//El número ingresado es impar.\n"
          ]
        }
      ]
    },
    {
      "cell_type": "code",
      "source": [
        "\"\"\"\n",
        "Crea un programa que lea dos números y determine cuál es mayor, cuál es menor o si ambos son iguales.\n",
        "\"\"\"\n",
        "\n",
        "num1 = int(input(\"-> Ingrese el primer número: \"))\n",
        "num2 = int(input(\"-> Ingrese el segundo número: \"))\n",
        "\n",
        "if num1 != num2:\n",
        "\n",
        "  if num1 > num2:\n",
        "    print(\"// El primer número es mayor que el segundo. Es decir, el segundo número es menor que el primero. \")\n",
        "  else:\n",
        "    print(\"// El segundo número es mayor que el primero. Es decir, el primer número es menor que el segundo. \")\n",
        "\n",
        "else:\n",
        "  print(\"// Los dos números son iguales. \")"
      ],
      "metadata": {
        "colab": {
          "base_uri": "https://localhost:8080/"
        },
        "id": "98oTe6FblpAP",
        "outputId": "f09ea040-b2b7-485e-d19c-cc24fd7ba93d"
      },
      "execution_count": null,
      "outputs": [
        {
          "output_type": "stream",
          "name": "stdout",
          "text": [
            "-> Ingrese el primer número: 1\n",
            "-> Ingrese el segundo número: 2\n",
            "// El segundo número es mayor que el primero. Es decir, el primer número es menor que el segundo. \n"
          ]
        }
      ]
    },
    {
      "cell_type": "code",
      "source": [
        "## Formato.\n",
        "\n",
        "num1 = int(input(\"-> Ingrese el primer número: \"))\n",
        "num2 = int(input(\"-> Ingrese el segundo número: \"))\n",
        "\n",
        "if num1 != num2:\n",
        "\n",
        "  if num1 > num2:\n",
        "    print(f\"// El numero mayor es: {num1}. \")\n",
        "  else:\n",
        "    print(f\"// El numero mayor es: {num2}. \")\n",
        "\n",
        "else:\n",
        "  print(f\"// Los numeros {num1} y {num2} son iguales. \")"
      ],
      "metadata": {
        "colab": {
          "base_uri": "https://localhost:8080/"
        },
        "id": "xuj-UUY8lsrG",
        "outputId": "d49cb949-8e4c-4c1a-8ba2-eebffe7adfa7"
      },
      "execution_count": null,
      "outputs": [
        {
          "output_type": "stream",
          "name": "stdout",
          "text": [
            "-> Ingrese el primer número: 1\n",
            "-> Ingrese el segundo número: 1\n",
            "// Los numeros 1 y 1 son iguales. \n"
          ]
        }
      ]
    },
    {
      "cell_type": "code",
      "source": [
        "#Escribe un programa que clasifique la edad en diferentes categorías: Niño (0-12 años), Adolescente (13-17 años), Adulto (18-64 años) y Anciano (65 años o más)..\n",
        "edad = int(input(\"Ingresa la edad: \"))\n",
        "if edad < 0:\n",
        "    print(\"La edad no puede ser negativa.\")\n",
        "elif 0 <= edad <= 12:\n",
        "    print(\"La persona es un Niño.\")\n",
        "elif 13 <= edad <= 17:\n",
        "    print(\"La persona es un Adolescente.\")\n",
        "elif 18 <= edad <= 64:\n",
        "    print(\"La persona es un Adulto.\")\n",
        "else:\n",
        "    print(\"La persona es un Anciano.\")"
      ],
      "metadata": {
        "colab": {
          "base_uri": "https://localhost:8080/"
        },
        "id": "r_4kQvqLqQ51",
        "outputId": "ac282e97-a8d2-4259-9853-d5db98d69743"
      },
      "execution_count": null,
      "outputs": [
        {
          "output_type": "stream",
          "name": "stdout",
          "text": [
            "Ingresa la edad: 30\n",
            "La persona es un Adulto.\n"
          ]
        }
      ]
    },
    {
      "cell_type": "markdown",
      "source": [
        "## 2. **Las funciones**\n",
        "son bloques de codigo en Python que se pueden reutulizar para ejecutar una tarea en específico."
      ],
      "metadata": {
        "id": "ucsAn0YYt39S"
      }
    },
    {
      "cell_type": "code",
      "source": [
        "#Tengo la función lineal y =mx+b\n",
        "#Deseo evaluar el valor de x =5 en la función y=4x+7\n",
        "def funcion_lineal (x) :\n",
        "    variable=x\n",
        "    y=4*x+7\n",
        "    return y\n",
        "    #print(f\"El valor de y es: {y}\")\n",
        "print(funcion_lineal(5))\n"
      ],
      "metadata": {
        "id": "TgUCq1x6qkeZ",
        "colab": {
          "base_uri": "https://localhost:8080/"
        },
        "outputId": "6158aa61-aede-4b66-878a-0dc0ec6023b2"
      },
      "execution_count": 8,
      "outputs": [
        {
          "output_type": "stream",
          "name": "stdout",
          "text": [
            "27\n"
          ]
        }
      ]
    },
    {
      "cell_type": "code",
      "source": [
        "#Tengo la función lineal y = mx+b\n",
        "#Deseo evaluar el valor de X = 5 en la función y=4x+7\n",
        "def funcion_lineal (x) :\n",
        "    variable = x\n",
        "    y=(4*variable)+7\n",
        "    z=print(f\"El valor de y es : {y}.\")\n",
        "    return z\n",
        "funcion_lineal(5)"
      ],
      "metadata": {
        "colab": {
          "base_uri": "https://localhost:8080/"
        },
        "id": "yMlE8-sIvTN5",
        "outputId": "d02511a0-6d71-448f-d888-1d6b03c78826"
      },
      "execution_count": 9,
      "outputs": [
        {
          "output_type": "stream",
          "name": "stdout",
          "text": [
            "El valor de y es : 27.\n"
          ]
        }
      ]
    },
    {
      "cell_type": "code",
      "source": [
        "##Escribe una función que reciba la edad de una persona como parámetro y determine si la persona es mayor de edad (18 años o más) o menor de edad.\n",
        "def verificar_mayoria_edad(edad):\n",
        "  if edad <0:\n",
        "    return \"Edad no valida\"\n",
        "  elif edad >= 18:\n",
        "    return \"Eres mayor de edad\"\n",
        "  else:\n",
        "    return \"Eres menor de edad\"\n",
        "\n",
        "#Ejemplo de uso.\n",
        "edad = int(input(\"Ingresa tu edad: \"))\n",
        "(verificar_mayoria_edad(edad))\n",
        ""
      ],
      "metadata": {
        "colab": {
          "base_uri": "https://localhost:8080/",
          "height": 53
        },
        "id": "GDo3IOM1xFhV",
        "outputId": "68c74e8f-a8eb-4bc6-9d68-cf9d702f4a19"
      },
      "execution_count": 15,
      "outputs": [
        {
          "name": "stdout",
          "output_type": "stream",
          "text": [
            "Ingresa tu edad: 17\n"
          ]
        },
        {
          "output_type": "execute_result",
          "data": {
            "text/plain": [
              "'Eres menor de edad'"
            ],
            "application/vnd.google.colaboratory.intrinsic+json": {
              "type": "string"
            }
          },
          "metadata": {},
          "execution_count": 15
        }
      ]
    },
    {
      "cell_type": "code",
      "source": [],
      "metadata": {
        "id": "-1dKavi90G1q"
      },
      "execution_count": null,
      "outputs": []
    }
  ]
}