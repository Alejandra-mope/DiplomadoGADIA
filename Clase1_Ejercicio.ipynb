{
  "nbformat": 4,
  "nbformat_minor": 0,
  "metadata": {
    "colab": {
      "provenance": [],
      "authorship_tag": "ABX9TyPrQ/R1t2OAy4Eyn5P08E3O",
      "include_colab_link": true
    },
    "kernelspec": {
      "name": "python3",
      "display_name": "Python 3"
    },
    "language_info": {
      "name": "python"
    }
  },
  "cells": [
    {
      "cell_type": "markdown",
      "metadata": {
        "id": "view-in-github",
        "colab_type": "text"
      },
      "source": [
        "<a href=\"https://colab.research.google.com/github/Alejandra-mope/DiplomadoGADIA/blob/main/Clase1_Ejercicio.ipynb\" target=\"_parent\"><img src=\"https://colab.research.google.com/assets/colab-badge.svg\" alt=\"Open In Colab\"/></a>"
      ]
    },
    {
      "cell_type": "code",
      "execution_count": null,
      "metadata": {
        "id": "wz0p12OrowD8"
      },
      "outputs": [],
      "source": []
    },
    {
      "cell_type": "markdown",
      "source": [
        "**INTRODUCCIÓN A PYTHON**\n",
        "\n",
        "DIPLOMADO EN GOBIERNO Y ANALÍTICA DE DATOS.\n",
        "\n",
        "FUNDACIÓN UNIVERSITARIA CAFAM.\n",
        "\n",
        "DOCENTE: NICOLÁS MOJICA GOMEZ.\n",
        "\n",
        "ESTUDIANTE: ANGIE ALEJANDRA MORENO PÉREZ.\n",
        "\n",
        "\n",
        "\n",
        "---\n",
        "\n",
        "\n",
        "\n"
      ],
      "metadata": {
        "id": "6CRm_l-fqIR_"
      }
    },
    {
      "cell_type": "markdown",
      "source": [
        "## 1.Comentarios en los códigos.\n",
        "\n",
        "Para documentar códigos en Python existen diferentes maneras de insertar comentarios, esto nos permite docuemntar nuestras secuencias de comando para su anális y/o posterior modificación."
      ],
      "metadata": {
        "id": "54P505yWrrTI"
      }
    },
    {
      "cell_type": "markdown",
      "source": [
        "\n"
      ],
      "metadata": {
        "id": "Dt1lzcmBsLLc"
      }
    },
    {
      "cell_type": "markdown",
      "source": [],
      "metadata": {
        "id": "KlVXdkshs6fg"
      }
    },
    {
      "cell_type": "code",
      "source": [
        "# Este comentario es de una sola linea\n",
        "#Python es un programa sensible a las mayúsculas y minúsculas.\n",
        "print(\"Hola mundo\")\n"
      ],
      "metadata": {
        "colab": {
          "base_uri": "https://localhost:8080/"
        },
        "id": "3iImMkDxrgV9",
        "outputId": "10b68a20-63a0-4605-dcbd-b8d1bb6aea0b"
      },
      "execution_count": null,
      "outputs": [
        {
          "output_type": "stream",
          "name": "stdout",
          "text": [
            "Hola mundo\n"
          ]
        }
      ]
    },
    {
      "cell_type": "code",
      "source": [
        "'''\n",
        "Este comentario es de múltiples líneas\n",
        " puede extenderse en múltiples lineas.\n",
        " '''\n",
        "print(\"Hola mundo\")\n",
        "\n"
      ],
      "metadata": {
        "id": "Ni9Pp9-ivja_",
        "colab": {
          "base_uri": "https://localhost:8080/"
        },
        "outputId": "b356c6cd-3717-410b-e2c2-c1b560a60273"
      },
      "execution_count": null,
      "outputs": [
        {
          "output_type": "stream",
          "name": "stdout",
          "text": [
            "Hola mundo\n"
          ]
        }
      ]
    },
    {
      "cell_type": "markdown",
      "source": [
        "## 2. Variables.\n",
        "\n",
        "Una variable es un elemento de programación que tiene asignado un valor determinado."
      ],
      "metadata": {
        "id": "4mBPt-shwUZW"
      }
    },
    {
      "cell_type": "code",
      "source": [
        "#Para crear una variable un Python se le debe asignar un nombre y un valor usando un \"-\"\n",
        "var=\"Hola mundo\"\n",
        "print(var)"
      ],
      "metadata": {
        "id": "msuDgQdPwHSr",
        "colab": {
          "base_uri": "https://localhost:8080/"
        },
        "outputId": "10039e6e-1035-49e9-ea40-6f6a558ae545"
      },
      "execution_count": null,
      "outputs": [
        {
          "output_type": "stream",
          "name": "stdout",
          "text": [
            "Hola mundo\n"
          ]
        }
      ]
    },
    {
      "cell_type": "code",
      "source": [
        "## Las vairables pueden cambiar a lo largo del programa de phyton.\n",
        "var=\"Adiós mundo\"\n",
        "print(var)"
      ],
      "metadata": {
        "id": "YCsU9acAxjj7",
        "colab": {
          "base_uri": "https://localhost:8080/"
        },
        "outputId": "62a19d21-5454-4349-9c73-d1eff7b37e23"
      },
      "execution_count": null,
      "outputs": [
        {
          "output_type": "stream",
          "name": "stdout",
          "text": [
            "Adiós mundo\n"
          ]
        }
      ]
    },
    {
      "cell_type": "code",
      "source": [
        "##Las variables en Python son sensibles a las mayúsculas y a las minúsculas."
      ],
      "metadata": {
        "id": "DaPY-3awyKqf"
      },
      "execution_count": null,
      "outputs": []
    },
    {
      "cell_type": "markdown",
      "source": [
        "## 3. Tipos de datos."
      ],
      "metadata": {
        "id": "U0VH1mD04sfu"
      }
    },
    {
      "cell_type": "code",
      "source": [
        "## Tipos de datos numéricos.\n",
        "\n",
        "entero=42\n",
        "#En la mayor parte de lenguajes de programación los enteros son representados con \"int\"\n"
      ],
      "metadata": {
        "id": "CPyH-1Qf5WcV"
      },
      "execution_count": null,
      "outputs": []
    },
    {
      "cell_type": "code",
      "source": [
        "## Tipo de dato flotante\n",
        "Flotante=3.14151"
      ],
      "metadata": {
        "id": "V7gPYGw-5ueG"
      },
      "execution_count": null,
      "outputs": []
    },
    {
      "cell_type": "code",
      "source": [
        "##Conversión de los tipos de datos.\n",
        "#Convertir un flotante a un número entero.\n",
        "entero=int(3.14)\n",
        "print(entero)\n"
      ],
      "metadata": {
        "id": "D0YVVyWo6eTd",
        "colab": {
          "base_uri": "https://localhost:8080/"
        },
        "outputId": "738689ae-2365-45a0-9588-ad2f4ad039dc"
      },
      "execution_count": null,
      "outputs": [
        {
          "output_type": "stream",
          "name": "stdout",
          "text": [
            "3\n"
          ]
        }
      ]
    },
    {
      "cell_type": "code",
      "source": [
        "##Convertir de entero a flotante.\n",
        "flotante=float(5)\n",
        "print(flotante)"
      ],
      "metadata": {
        "id": "oRGQtE3r7BBo",
        "colab": {
          "base_uri": "https://localhost:8080/"
        },
        "outputId": "18ce92df-9ae4-417c-eb49-0e59e450254b"
      },
      "execution_count": null,
      "outputs": [
        {
          "output_type": "stream",
          "name": "stdout",
          "text": [
            "5.0\n"
          ]
        }
      ]
    },
    {
      "cell_type": "markdown",
      "source": [
        "## 4. Operadores matemáticos.\n",
        "Los operadores matemáticos se ulizan para realizar operaciones comunes como la adición, sustracción, multiplicación, etc.\n"
      ],
      "metadata": {
        "id": "ZSvZicDs73Gw"
      }
    },
    {
      "cell_type": "code",
      "source": [
        "#Suma.\n",
        "a=10\n",
        "b=5\n",
        "print(a+b)"
      ],
      "metadata": {
        "id": "sf_gQ-Oc8Fo2",
        "colab": {
          "base_uri": "https://localhost:8080/"
        },
        "outputId": "57c778f2-f968-43bc-a9ce-0841ea104ea1"
      },
      "execution_count": null,
      "outputs": [
        {
          "output_type": "stream",
          "name": "stdout",
          "text": [
            "15\n"
          ]
        }
      ]
    },
    {
      "cell_type": "code",
      "source": [
        "# Resta.\n",
        "c=a-b\n",
        "print(c)\n"
      ],
      "metadata": {
        "id": "GYv3erKU8Lwe",
        "colab": {
          "base_uri": "https://localhost:8080/"
        },
        "outputId": "cc723dd1-366f-426c-96bf-5aaf20971945"
      },
      "execution_count": null,
      "outputs": [
        {
          "output_type": "stream",
          "name": "stdout",
          "text": [
            "5\n"
          ]
        }
      ]
    },
    {
      "cell_type": "code",
      "source": [
        "#Multiplicación.\n",
        "d=a*b\n",
        "print(d)"
      ],
      "metadata": {
        "id": "JXpzPn-F8eOr",
        "colab": {
          "base_uri": "https://localhost:8080/"
        },
        "outputId": "a788c298-bbac-49d2-a206-29986ffc343c"
      },
      "execution_count": null,
      "outputs": [
        {
          "output_type": "stream",
          "name": "stdout",
          "text": [
            "50\n"
          ]
        }
      ]
    },
    {
      "cell_type": "code",
      "source": [
        "#División.\n",
        "e=a/b\n",
        "print(e)"
      ],
      "metadata": {
        "colab": {
          "base_uri": "https://localhost:8080/"
        },
        "id": "Ak36PXRpAxqC",
        "outputId": "556dbc14-123b-4eb6-b92e-fe0ea186dbb6"
      },
      "execution_count": null,
      "outputs": [
        {
          "output_type": "stream",
          "name": "stdout",
          "text": [
            "2.0\n"
          ]
        }
      ]
    },
    {
      "cell_type": "code",
      "source": [
        "#División entre.\n",
        "print(a//b)"
      ],
      "metadata": {
        "colab": {
          "base_uri": "https://localhost:8080/"
        },
        "id": "c2brIlwLA_bC",
        "outputId": "aa078cba-ec47-4db1-a965-5383ecf2bc58"
      },
      "execution_count": null,
      "outputs": [
        {
          "output_type": "stream",
          "name": "stdout",
          "text": [
            "2\n"
          ]
        }
      ]
    },
    {
      "cell_type": "code",
      "source": [
        "#Módulo.\n",
        "print(a%b)"
      ],
      "metadata": {
        "colab": {
          "base_uri": "https://localhost:8080/"
        },
        "id": "w1F1Mj5FBIw8",
        "outputId": "9edd4de5-e8d5-462c-a986-c2ff5bc1ac71"
      },
      "execution_count": null,
      "outputs": [
        {
          "output_type": "stream",
          "name": "stdout",
          "text": [
            "0\n"
          ]
        }
      ]
    },
    {
      "cell_type": "code",
      "source": [
        "#Exponenciación.\n",
        "print(a**b)"
      ],
      "metadata": {
        "colab": {
          "base_uri": "https://localhost:8080/"
        },
        "id": "ykVAbT4yBRg6",
        "outputId": "8bcf3c39-2f9b-42a2-accb-b401f0bd9e63"
      },
      "execution_count": null,
      "outputs": [
        {
          "output_type": "stream",
          "name": "stdout",
          "text": [
            "100000\n"
          ]
        }
      ]
    },
    {
      "cell_type": "code",
      "source": [
        "#Asignación compuesta.\n",
        "a+=b\n",
        "print(a)"
      ],
      "metadata": {
        "colab": {
          "base_uri": "https://localhost:8080/"
        },
        "id": "kKzI9yCVB2bd",
        "outputId": "1bcf055f-0909-40c8-969c-baf197161089"
      },
      "execution_count": null,
      "outputs": [
        {
          "output_type": "stream",
          "name": "stdout",
          "text": [
            "5\n"
          ]
        }
      ]
    },
    {
      "cell_type": "code",
      "source": [
        "#Asignacion compuesta 2.\n",
        "a-=b\n",
        "print(a)"
      ],
      "metadata": {
        "colab": {
          "base_uri": "https://localhost:8080/"
        },
        "id": "_MjpdR-_B9wZ",
        "outputId": "fd8b6557-345e-4a6e-b5f7-85cddec3b910"
      },
      "execution_count": null,
      "outputs": [
        {
          "output_type": "stream",
          "name": "stdout",
          "text": [
            "0\n"
          ]
        }
      ]
    },
    {
      "cell_type": "code",
      "source": [
        "#Redondeo=\n",
        "var4=3.1410\n",
        "print(round(var4,2))"
      ],
      "metadata": {
        "colab": {
          "base_uri": "https://localhost:8080/"
        },
        "id": "M7xZ5_1_ChsW",
        "outputId": "4c9509cd-de80-4280-af98-cff27f738f0e"
      },
      "execution_count": null,
      "outputs": [
        {
          "output_type": "stream",
          "name": "stdout",
          "text": [
            "3.14\n"
          ]
        }
      ]
    },
    {
      "cell_type": "code",
      "source": [],
      "metadata": {
        "id": "zLdaBm8lDTH2"
      },
      "execution_count": null,
      "outputs": []
    },
    {
      "cell_type": "markdown",
      "source": [
        "**INTRODUCCIÓN A PYTHON**\n",
        "\n",
        "DIPLOMADO EN GOBIERNO Y ANALÍTICA DE DATOS.\n",
        "\n",
        "FUNDACIÓN UNIVERSITARIA CAFAM.\n",
        "\n",
        "DOCENTE: NICOLÁS MOJICA GOMEZ.\n",
        "\n",
        "ESTUDIANTE: ANGIE ALEJANDRA MORENO PÉREZ.\n"
      ],
      "metadata": {
        "id": "1ArJO6J6ExtJ"
      }
    },
    {
      "cell_type": "markdown",
      "source": [
        "# 1. Operadores Matemáticos."
      ],
      "metadata": {
        "id": "ZA7BhjbvFIMP"
      }
    },
    {
      "cell_type": "code",
      "source": [
        "## 0. Declarar variables.\n",
        "a=10\n",
        "b=3\n"
      ],
      "metadata": {
        "id": "gtNiOVx5EzUQ"
      },
      "execution_count": 71,
      "outputs": []
    },
    {
      "cell_type": "code",
      "source": [
        "##1. Suma.\n",
        "z=a-b\n",
        "print(z)"
      ],
      "metadata": {
        "colab": {
          "base_uri": "https://localhost:8080/"
        },
        "id": "46PbMPY4Hwol",
        "outputId": "8b985e1c-a3c0-42f9-aa91-b9fc609d24e6"
      },
      "execution_count": 72,
      "outputs": [
        {
          "output_type": "stream",
          "name": "stdout",
          "text": [
            "7\n"
          ]
        }
      ]
    },
    {
      "cell_type": "code",
      "source": [
        "## 2. Resta.\n",
        "c=a-b\n",
        "print(c)"
      ],
      "metadata": {
        "colab": {
          "base_uri": "https://localhost:8080/"
        },
        "id": "GqfNYS47FCJh",
        "outputId": "8ff2a07a-a11d-43b5-ecc8-aefa927bd921"
      },
      "execution_count": 67,
      "outputs": [
        {
          "output_type": "stream",
          "name": "stdout",
          "text": [
            "7\n"
          ]
        }
      ]
    },
    {
      "cell_type": "code",
      "source": [
        "## 3. Multiplicación.\n",
        "d= a*b\n",
        "print(d)"
      ],
      "metadata": {
        "colab": {
          "base_uri": "https://localhost:8080/"
        },
        "id": "j4iS3tKsFsVX",
        "outputId": "d60c1272-6773-4877-9eb6-da3b717328c2"
      },
      "execution_count": 68,
      "outputs": [
        {
          "output_type": "stream",
          "name": "stdout",
          "text": [
            "30\n"
          ]
        }
      ]
    },
    {
      "cell_type": "code",
      "source": [
        "## 4.División.\n",
        "e= a/b\n",
        "print(e)"
      ],
      "metadata": {
        "colab": {
          "base_uri": "https://localhost:8080/"
        },
        "id": "w7QcV9ZTGCtw",
        "outputId": "ff7ebbfa-b324-433e-f418-d456936e73a9"
      },
      "execution_count": 69,
      "outputs": [
        {
          "output_type": "stream",
          "name": "stdout",
          "text": [
            "3.3333333333333335\n"
          ]
        }
      ]
    },
    {
      "cell_type": "code",
      "source": [
        "## 5. Módulo.\n",
        "print(a%b)\n"
      ],
      "metadata": {
        "colab": {
          "base_uri": "https://localhost:8080/"
        },
        "id": "Y-euAlTlGMv4",
        "outputId": "39c510e8-790c-4773-8983-0e157a3c69de"
      },
      "execution_count": 70,
      "outputs": [
        {
          "output_type": "stream",
          "name": "stdout",
          "text": [
            "1\n"
          ]
        }
      ]
    },
    {
      "cell_type": "code",
      "source": [
        "## 6. Potencia.\n",
        "print(a**b)"
      ],
      "metadata": {
        "colab": {
          "base_uri": "https://localhost:8080/"
        },
        "id": "kN9QC_FYG4P4",
        "outputId": "a85f9514-0535-4d9a-e3f2-9a6704641ccb"
      },
      "execution_count": 74,
      "outputs": [
        {
          "output_type": "stream",
          "name": "stdout",
          "text": [
            "1000\n"
          ]
        }
      ]
    },
    {
      "cell_type": "code",
      "source": [
        "## 7. División entera.\n",
        "print(a//b)"
      ],
      "metadata": {
        "colab": {
          "base_uri": "https://localhost:8080/"
        },
        "id": "5Ih5jfiLH7gf",
        "outputId": "31a906a3-25eb-4e8b-d081-fd17dda1f73f"
      },
      "execution_count": 73,
      "outputs": [
        {
          "output_type": "stream",
          "name": "stdout",
          "text": [
            "3\n"
          ]
        }
      ]
    },
    {
      "cell_type": "code",
      "source": [
        "Los códigos terminan aquí."
      ],
      "metadata": {
        "id": "FqNPg741ILhj"
      },
      "execution_count": null,
      "outputs": []
    }
  ]
}